{
 "cells": [
  {
   "cell_type": "markdown",
   "id": "22958363",
   "metadata": {},
   "source": [
    "**Getting User input**"
   ]
  },
  {
   "cell_type": "code",
   "execution_count": null,
   "id": "6d30ef43",
   "metadata": {},
   "outputs": [
    {
     "name": "stdout",
     "output_type": "stream",
     "text": [
      "Student Information\n",
      "---------------------\n",
      "Name : adfasf\n",
      "Age  : 102\n",
      "GPA  :  3.50\n"
     ]
    }
   ],
   "source": [
    "# this is part it is provided user input part.\n",
    "name = input(\"Enter your name:\")\n",
    "age = input (\"Enter you age:\")\n",
    "gpa = input(\"Enter your gpa:\")\n",
    "\n",
    "\n",
    "print(\"Student Information\")\n",
    "print(\"---------------------\")\n",
    "print(\"Name : \"+name)\n",
    "print(\"Age  : \",age)\n",
    "print(\"GPA  : \",gpa)"
   ]
  },
  {
   "cell_type": "markdown",
   "id": "db2df33d",
   "metadata": {},
   "source": [
    "**Without taking any user input**"
   ]
  },
  {
   "cell_type": "code",
   "execution_count": null,
   "id": "04750bd3",
   "metadata": {},
   "outputs": [
    {
     "name": "stdout",
     "output_type": "stream",
     "text": [
      "Student Information\n",
      "---------------------\n",
      "Name: Anisul islam\n",
      "Age :  20\n",
      "GPA :  3.5\n"
     ]
    }
   ],
   "source": [
    "# this is part fixed value or the value was given.\n",
    "name = \"Anisul islam\"\n",
    "age = 20\n",
    "gpa = 3.50\n",
    "\n",
    "print(\"Student Information\")\n",
    "print(\"---------------------\")\n",
    "print(\"Name: \"+name)\n",
    "print(\"Age : \",age)\n",
    "print(\"GPA : \",gpa)"
   ]
  }
 ],
 "metadata": {
  "kernelspec": {
   "display_name": "Python 3",
   "language": "python",
   "name": "python3"
  },
  "language_info": {
   "codemirror_mode": {
    "name": "ipython",
    "version": 3
   },
   "file_extension": ".py",
   "mimetype": "text/x-python",
   "name": "python",
   "nbconvert_exporter": "python",
   "pygments_lexer": "ipython3",
   "version": "3.12.5"
  }
 },
 "nbformat": 4,
 "nbformat_minor": 5
}
