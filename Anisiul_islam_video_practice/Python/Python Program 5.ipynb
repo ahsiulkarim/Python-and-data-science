{
 "cells": [
  {
   "cell_type": "markdown",
   "id": "ac3a50b2",
   "metadata": {},
   "source": [
    "**Type Casting**"
   ]
  },
  {
   "cell_type": "markdown",
   "id": "27e4ac0f",
   "metadata": {},
   "source": [
    "Without typecusting"
   ]
  },
  {
   "cell_type": "code",
   "execution_count": 8,
   "id": "72a25bf0",
   "metadata": {},
   "outputs": [
    {
     "name": "stdout",
     "output_type": "stream",
     "text": [
      "123\n"
     ]
    }
   ],
   "source": [
    "\"\"\"\n",
    "In this part \n",
    "two strings will fourcefully \n",
    "converter into integer number for \n",
    "different purposes.\n",
    "\"\"\"\n",
    "#Entered 1st input number will be stored into this variable as string.\n",
    "num1 = input(\"Enter 1st number :\")\n",
    "#same as for the 2nd variable also.\n",
    "num2 = input(\"Enter 2nd number :\")\n",
    "\n",
    "sum = num1 + num2 \n",
    "# 1st and 2nd string will added and combined into one string.\n",
    "print(sum)\n"
   ]
  },
  {
   "cell_type": "markdown",
   "id": "9983ca64",
   "metadata": {},
   "source": [
    "With Typcusting, not converting into the formate of interger number."
   ]
  },
  {
   "cell_type": "code",
   "execution_count": 9,
   "id": "793cc197",
   "metadata": {},
   "outputs": [
    {
     "ename": "TypeError",
     "evalue": "can only concatenate str (not \"int\") to str",
     "output_type": "error",
     "traceback": [
      "\u001b[1;31m---------------------------------------------------------------------------\u001b[0m",
      "\u001b[1;31mTypeError\u001b[0m                                 Traceback (most recent call last)",
      "Cell \u001b[1;32mIn[9], line 20\u001b[0m\n\u001b[0;32m     12\u001b[0m \u001b[38;5;28msum\u001b[39m \u001b[38;5;241m=\u001b[39m \u001b[38;5;28mint\u001b[39m(num1) \u001b[38;5;241m+\u001b[39m \u001b[38;5;28mint\u001b[39m(num2)\n\u001b[0;32m     14\u001b[0m \u001b[38;5;124;03m\"\"\"\u001b[39;00m\n\u001b[0;32m     15\u001b[0m \u001b[38;5;124;03mIn this line \u001b[39;00m\n\u001b[0;32m     16\u001b[0m \u001b[38;5;124;03mthe sum is string type\u001b[39;00m\n\u001b[0;32m     17\u001b[0m \u001b[38;5;124;03mthat's why it is showing error.\u001b[39;00m\n\u001b[0;32m     18\u001b[0m \u001b[38;5;124;03mit should have print in int formate.\u001b[39;00m\n\u001b[0;32m     19\u001b[0m \u001b[38;5;124;03m\"\"\"\u001b[39;00m\n\u001b[1;32m---> 20\u001b[0m \u001b[38;5;28mprint\u001b[39m(\u001b[38;5;124;43m\"\u001b[39;49m\u001b[38;5;124;43mThe sum is \u001b[39;49m\u001b[38;5;124;43m\"\u001b[39;49m\u001b[38;5;241;43m+\u001b[39;49m\u001b[38;5;28;43msum\u001b[39;49m)\n",
      "\u001b[1;31mTypeError\u001b[0m: can only concatenate str (not \"int\") to str"
     ]
    }
   ],
   "source": [
    "\"\"\"\n",
    "In this part \n",
    "two strings will fourcefully \n",
    "converter into integer number for \n",
    "different purposes.\n",
    "\"\"\"\n",
    "#Entered 1st input number will be stored into this variable as string.\n",
    "num1 = input(\"Enter 1st number :\")\n",
    "#same as for the 2nd variable also.\n",
    "num2 = input(\"Enter 2nd number :\")\n",
    "#Typecast the string into int.\n",
    "sum = int(num1) + int(num2)\n",
    "\n",
    "\"\"\"\n",
    "In this line \n",
    "the sum is string type\n",
    "that's why it is showing error.\n",
    "it should have print in int formate.\n",
    "\"\"\"\n",
    "print(\"The sum is \"+sum)"
   ]
  },
  {
   "cell_type": "markdown",
   "id": "f3c42935",
   "metadata": {},
   "source": [
    "Printing into integer number formate and showing **Addition** & **Subtraction**."
   ]
  },
  {
   "cell_type": "code",
   "execution_count": 11,
   "id": "8819eb21",
   "metadata": {},
   "outputs": [
    {
     "name": "stdout",
     "output_type": "stream",
     "text": [
      "The sum is 15\n",
      "The subtraction is 9\n",
      "The multiplication is 36\n"
     ]
    }
   ],
   "source": [
    "\"\"\"\n",
    "In this part \n",
    "two strings will fourcefully \n",
    "converter into integer number for \n",
    "different purposes.\n",
    "\"\"\"\n",
    "\n",
    "#Entered 1st input number will be stored into this variable as string.\n",
    "num1 = input(\"Enter 1st number :\")\n",
    "#same as for the 2nd variable also.\n",
    "num2 = input(\"Enter 2nd number :\")\n",
    "\n",
    "# addition\n",
    "sum = int(num1) + int(num2)\n",
    "\n",
    "#This int formation.\n",
    "print(\"The sum is\",sum)\n",
    "\n",
    "#Subtracting\n",
    "result = int(num1) - int(num2)\n",
    "\n",
    "#printig output\n",
    "print(\"The subtraction is\",result)\n",
    "\n",
    "#Multiplication\n",
    "\n",
    "result = int(num1) * int(num2)\n",
    "\n",
    "#printing output\n",
    "\n",
    "print(\"The multiplication is\",result)\n"
   ]
  }
 ],
 "metadata": {
  "kernelspec": {
   "display_name": "Python 3",
   "language": "python",
   "name": "python3"
  },
  "language_info": {
   "codemirror_mode": {
    "name": "ipython",
    "version": 3
   },
   "file_extension": ".py",
   "mimetype": "text/x-python",
   "name": "python",
   "nbconvert_exporter": "python",
   "pygments_lexer": "ipython3",
   "version": "3.12.5"
  }
 },
 "nbformat": 4,
 "nbformat_minor": 5
}
