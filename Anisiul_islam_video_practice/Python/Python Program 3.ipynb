{
 "cells": [
  {
   "cell_type": "markdown",
   "id": "7588c30b",
   "metadata": {},
   "source": [
    "**Basic Numerical Operation**"
   ]
  },
  {
   "cell_type": "code",
   "execution_count": null,
   "id": "113e082c",
   "metadata": {},
   "outputs": [
    {
     "name": "stdout",
     "output_type": "stream",
     "text": [
      "22\n",
      "14\n",
      "72\n",
      "4.5\n",
      "2\n",
      "6\n",
      "16\n",
      "64\n"
     ]
    }
   ],
   "source": [
    "# Data types \n",
    "a = 18\n",
    "b = 4\n",
    "# Basic numeric operations:\n",
    "\n",
    "# Addition\n",
    "print(a + b)\n",
    "# Subtraction \n",
    "print(a - b)\n",
    "# Multiplication\n",
    "print(a * b)\n",
    "# Division\n",
    "print(a / b)\n",
    "# Modulus\n",
    "print(a % b)\n",
    "\n",
    "# There are some other numerical operaions:\n",
    "\n",
    "# \"//\" This symbol is called floor.\n",
    "\"\"\"\n",
    "Showing how does the floor\n",
    "works.\n",
    "\"\"\"\n",
    "a1 = 27\n",
    "b1 = 4\n",
    "print(a1 // b1) # in this case it will print the downer smaller interger and the result is 6.75 and it's downer small interger is 6.\n",
    "\n",
    "# Exponentiation symol is \"**\":\n",
    "a2 = 4\n",
    "b2 = 2\n",
    "print(a2 ** b2) # in this case it will print 4^2 = 16\n",
    "\n",
    "a3 = 4\n",
    "b3 = 3\n",
    "print(a3 ** b3) # in this case it will print 4^3 = 64"
   ]
  }
 ],
 "metadata": {
  "kernelspec": {
   "display_name": "Python 3",
   "language": "python",
   "name": "python3"
  },
  "language_info": {
   "codemirror_mode": {
    "name": "ipython",
    "version": 3
   },
   "file_extension": ".py",
   "mimetype": "text/x-python",
   "name": "python",
   "nbconvert_exporter": "python",
   "pygments_lexer": "ipython3",
   "version": "3.12.5"
  }
 },
 "nbformat": 4,
 "nbformat_minor": 5
}
