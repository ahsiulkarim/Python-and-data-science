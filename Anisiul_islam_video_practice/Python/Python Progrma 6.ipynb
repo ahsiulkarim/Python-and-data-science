{
 "cells": [
  {
   "cell_type": "markdown",
   "id": "2aca3452",
   "metadata": {},
   "source": [
    "**Area of any shape**"
   ]
  },
  {
   "cell_type": "code",
   "execution_count": null,
   "id": "cda26007",
   "metadata": {},
   "outputs": [
    {
     "name": "stdout",
     "output_type": "stream",
     "text": [
      "The area is 18.0\n"
     ]
    }
   ],
   "source": [
    "#Area of trianlge\n",
    "base = float(input(\"Enter base = \"))\n",
    "height = float(input(\"Enter heigth = \"))\n",
    "#formula\n",
    "area = 0.5 * base * height\n",
    "\n",
    "print(\"The area is\",area)\n"
   ]
  },
  {
   "cell_type": "code",
   "execution_count": 2,
   "id": "c78d3699",
   "metadata": {},
   "outputs": [
    {
     "name": "stdout",
     "output_type": "stream",
     "text": [
      " The area is  28.2744\n"
     ]
    }
   ],
   "source": [
    "# Area of circle\n",
    "radius = float(input(\"Enter Radious = \"))\n",
    "#formula\n",
    "area = 3.1416 * radius * radius\n",
    "\n",
    "print(\"Area of circle = \",area)"
   ]
  }
 ],
 "metadata": {
  "kernelspec": {
   "display_name": "Python 3",
   "language": "python",
   "name": "python3"
  },
  "language_info": {
   "codemirror_mode": {
    "name": "ipython",
    "version": 3
   },
   "file_extension": ".py",
   "mimetype": "text/x-python",
   "name": "python",
   "nbconvert_exporter": "python",
   "pygments_lexer": "ipython3",
   "version": "3.12.5"
  }
 },
 "nbformat": 4,
 "nbformat_minor": 5
}
