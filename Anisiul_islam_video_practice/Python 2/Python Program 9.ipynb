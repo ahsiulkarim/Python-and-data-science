{
 "cells": [
  {
   "cell_type": "markdown",
   "id": "5f49b953",
   "metadata": {},
   "source": [
    "**Relational Operator & Boolean Data Type**"
   ]
  },
  {
   "cell_type": "code",
   "execution_count": 3,
   "id": "0fc0a032",
   "metadata": {},
   "outputs": [
    {
     "name": "stdout",
     "output_type": "stream",
     "text": [
      "True\n",
      "False\n"
     ]
    }
   ],
   "source": [
    "result = 30 > 20\n",
    "result1 = 30 < 20\n",
    "# It will print the boolen type output.\n",
    "# like True ,False.\n",
    "print(result)\n",
    "\n",
    "print(result1)"
   ]
  },
  {
   "cell_type": "code",
   "execution_count": null,
   "id": "24101082",
   "metadata": {},
   "outputs": [
    {
     "name": "stdout",
     "output_type": "stream",
     "text": [
      "True\n",
      "False\n",
      "True\n",
      "False\n",
      "False\n",
      "True\n",
      "True\n"
     ]
    }
   ],
   "source": [
    "# without use of any variable.\n",
    "print(30 > 20)\n",
    "print(30 < 20)\n",
    "print(30 >= 20)\n",
    "print(30 <= 20)\n",
    "print(30 == 20)\n",
    "print(30 != 20)\n"
   ]
  },
  {
   "cell_type": "code",
   "execution_count": 22,
   "id": "97972e5a",
   "metadata": {},
   "outputs": [
    {
     "name": "stdout",
     "output_type": "stream",
     "text": [
      "True\n"
     ]
    }
   ],
   "source": [
    "# Showin the use of relational operators for string.\n",
    "print(\"Virat\" == \"Virat\")"
   ]
  }
 ],
 "metadata": {
  "kernelspec": {
   "display_name": "Python 3",
   "language": "python",
   "name": "python3"
  },
  "language_info": {
   "codemirror_mode": {
    "name": "ipython",
    "version": 3
   },
   "file_extension": ".py",
   "mimetype": "text/x-python",
   "name": "python",
   "nbconvert_exporter": "python",
   "pygments_lexer": "ipython3",
   "version": "3.12.5"
  }
 },
 "nbformat": 4,
 "nbformat_minor": 5
}
