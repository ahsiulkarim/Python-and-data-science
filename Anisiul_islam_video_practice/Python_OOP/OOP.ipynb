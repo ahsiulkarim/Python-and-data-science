{
 "cells": [
  {
   "cell_type": "code",
   "execution_count": null,
   "id": "e3d41ae4",
   "metadata": {},
   "outputs": [],
   "source": [
    "class Dog:\n",
    "    species = \"Canine\"\n",
    "\n",
    "    def __init__(self,name,age):\n",
    "        self.name = name\n",
    "        self.age = age"
   ]
  },
  {
   "cell_type": "code",
   "execution_count": 1,
   "id": "5f94b8c8",
   "metadata": {},
   "outputs": [],
   "source": [
    "class Dog:\n",
    "    species = \"Canine\"\n",
    "\n",
    "    def __init__(self,name,age):\n",
    "        self.name = name\n",
    "        self.age = age\n",
    "\n",
    "dog1 = Dog(\"Buddy\", 5)\n"
   ]
  },
  {
   "cell_type": "code",
   "execution_count": 2,
   "id": "c89b5c3e",
   "metadata": {},
   "outputs": [
    {
     "name": "stdout",
     "output_type": "stream",
     "text": [
      "Buddy\n",
      "5\n"
     ]
    }
   ],
   "source": [
    "print(dog1.name)  # Output: Buddy\n",
    "print(dog1.age)   # Output: 5"
   ]
  },
  {
   "cell_type": "code",
   "execution_count": 5,
   "id": "80f63507",
   "metadata": {},
   "outputs": [
    {
     "name": "stdout",
     "output_type": "stream",
     "text": [
      "dog sound\n",
      "Labrador Woof\n",
      "Beagle barks\n",
      "5\n",
      "15\n",
      "30\n"
     ]
    }
   ],
   "source": [
    "class Dog:\n",
    "    def sound(self):\n",
    "        print(\"dog sound\")\n",
    "\n",
    "class Labrador(Dog):\n",
    "    def sound(self):\n",
    "        print(\"Labrador Woof\")\n",
    "\n",
    "\n",
    "class Beagle(Dog):\n",
    "    def sound(self):\n",
    "        print(\"Beagle barks\")\n",
    "\n",
    "class Calculator:\n",
    "    def add(self,a,b=0,c=0):\n",
    "        return a + b + c\n",
    "    \n",
    "dogs = [Dog(), Labrador(), Beagle()]\n",
    "\n",
    "for dog in dogs:\n",
    "    dog.sound()\n",
    "\n",
    "calc = Calculator()\n",
    "print(calc.add(5))        # Output: 5\n",
    "print(calc.add(5, 10))    # Output: 15\n",
    "print(calc.add(5, 10, 15)) # Output: 30"
   ]
  },
  {
   "cell_type": "code",
   "execution_count": 6,
   "id": "77829205",
   "metadata": {},
   "outputs": [],
   "source": [
    "class Dog:\n",
    "    def __init__(self, name, bread, age):\n",
    "        self.name = name\n",
    "        self._bread = bread\n",
    "        self.__age = age\n",
    "\n",
    "    def get_info(self):\n",
    "        return f\"Name: {self.name}, Breed: {self._bread}, Age: {self.__age}\"\n",
    "    \n",
    "    def get_age(self):\n",
    "        return self.__age\n",
    "    def set_age(self, age):\n",
    "        if age > 0:\n",
    "            self.__age = age\n",
    "        else:\n",
    "            print(\"Invalid age. Age must be positive.\")\n"
   ]
  },
  {
   "cell_type": "code",
   "execution_count": 8,
   "id": "7b4186cd",
   "metadata": {},
   "outputs": [
    {
     "name": "stdout",
     "output_type": "stream",
     "text": [
      "Buddy\n",
      "Labrador\n",
      "3\n",
      "Name: Buddy, Breed: Labrador, Age: 5\n"
     ]
    }
   ],
   "source": [
    "class Dog:\n",
    "    def __init__(self, name, breed, age):\n",
    "        self.name = name  # Public attribute\n",
    "        self._breed = breed  # Protected attribute\n",
    "        self.__age = age  # Private attribute\n",
    "\n",
    "    # Public method\n",
    "    def get_info(self):\n",
    "        return f\"Name: {self.name}, Breed: {self._breed}, Age: {self.__age}\"\n",
    "\n",
    "    # Getter and Setter for private attribute\n",
    "    def get_age(self):\n",
    "        return self.__age\n",
    "\n",
    "    def set_age(self, age):\n",
    "        if age > 0:\n",
    "            self.__age = age\n",
    "        else:\n",
    "            print(\"Invalid age!\")\n",
    "\n",
    "# Example Usage\n",
    "dog = Dog(\"Buddy\", \"Labrador\", 3)\n",
    "\n",
    "# Accessing public member\n",
    "print(dog.name)  # Accessible\n",
    "\n",
    "# Accessing protected member\n",
    "print(dog._breed)  # Accessible but discouraged outside the class\n",
    "\n",
    "# Accessing private member using getter\n",
    "print(dog.get_age())\n",
    "\n",
    "# Modifying private member using setter\n",
    "dog.set_age(5)\n",
    "print(dog.get_info())"
   ]
  }
 ],
 "metadata": {
  "kernelspec": {
   "display_name": "Python 3",
   "language": "python",
   "name": "python3"
  },
  "language_info": {
   "codemirror_mode": {
    "name": "ipython",
    "version": 3
   },
   "file_extension": ".py",
   "mimetype": "text/x-python",
   "name": "python",
   "nbconvert_exporter": "python",
   "pygments_lexer": "ipython3",
   "version": "3.12.5"
  }
 },
 "nbformat": 4,
 "nbformat_minor": 5
}
