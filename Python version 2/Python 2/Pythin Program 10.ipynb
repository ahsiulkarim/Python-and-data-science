{
 "cells": [
  {
   "cell_type": "markdown",
   "id": "e3066816",
   "metadata": {},
   "source": [
    "**CONTROL STATEMENT: if, else statement (Theoretical)  and Loop control statement**"
   ]
  },
  {
   "cell_type": "code",
   "execution_count": null,
   "id": "65e83b34",
   "metadata": {},
   "outputs": [
    {
     "name": "stdout",
     "output_type": "stream",
     "text": [
      "pass\n",
      "congratulation\n"
     ]
    }
   ],
   "source": [
    "marks = 20\n",
    "# also print multiple line in one if or elif conditon.\n",
    "if marks<=33:\n",
    "    print(\"pass\")\n",
    "    print(\"congratulation\")\n"
   ]
  }
 ],
 "metadata": {
  "kernelspec": {
   "display_name": "Python 3",
   "language": "python",
   "name": "python3"
  },
  "language_info": {
   "codemirror_mode": {
    "name": "ipython",
    "version": 3
   },
   "file_extension": ".py",
   "mimetype": "text/x-python",
   "name": "python",
   "nbconvert_exporter": "python",
   "pygments_lexer": "ipython3",
   "version": "3.12.5"
  }
 },
 "nbformat": 4,
 "nbformat_minor": 5
}
