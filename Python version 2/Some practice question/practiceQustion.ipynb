{
 "cells": [
  {
   "cell_type": "markdown",
   "id": "6f770870",
   "metadata": {},
   "source": [
    "**1. Sum Items in List**\n",
    "\n",
    "\n",
    " "
   ]
  },
  {
   "cell_type": "code",
   "execution_count": 18,
   "id": "b8ca4a52",
   "metadata": {},
   "outputs": [
    {
     "name": "stdout",
     "output_type": "stream",
     "text": [
      "Sum of list items:  30\n"
     ]
    }
   ],
   "source": [
    "list = [2,4,6,8,10]\n",
    "\n",
    "sum = 0\n",
    "\n",
    "for items in list:\n",
    "    sum = sum + items\n",
    "\n",
    "print(\"Sum of list items: \",sum)"
   ]
  },
  {
   "cell_type": "markdown",
   "id": "335b0a13",
   "metadata": {},
   "source": [
    "**2. Multiply Items in List**"
   ]
  },
  {
   "cell_type": "code",
   "execution_count": 9,
   "id": "62ffc55c",
   "metadata": {},
   "outputs": [
    {
     "name": "stdout",
     "output_type": "stream",
     "text": [
      "Muitiplication of list items: 3840\n"
     ]
    }
   ],
   "source": [
    "list = [2,4,6,8,10]\n",
    "\n",
    "mult = 1\n",
    "\n",
    "for items in list:\n",
    "    mult = mult * items\n",
    "\n",
    "print(\"Muitiplication of list items:\",mult)    "
   ]
  },
  {
   "cell_type": "code",
   "execution_count": 13,
   "id": "47ab15ef",
   "metadata": {},
   "outputs": [
    {
     "name": "stdout",
     "output_type": "stream",
     "text": [
      "List: [2, 4, 6, 8, 10]\n"
     ]
    }
   ],
   "source": [
    "# user enters: 10 20 30 40\n",
    "numbers = input(\"Enter numbers separated by space: \").split()\n",
    "\n",
    "# convert to integers\n",
    "for i in range(len(numbers)):\n",
    "    numbers[i] = int(numbers[i])\n",
    "\n",
    "print(\"List:\", numbers)\n"
   ]
  },
  {
   "cell_type": "markdown",
   "id": "3490d99d",
   "metadata": {},
   "source": [
    "**3. Get Largest Number in List**"
   ]
  },
  {
   "cell_type": "code",
   "execution_count": 27,
   "id": "2f0aafe7",
   "metadata": {},
   "outputs": [
    {
     "name": "stdout",
     "output_type": "stream",
     "text": [
      "Largest number:  35\n"
     ]
    }
   ],
   "source": [
    "list = [10,12,20,35,30]\n",
    "#list = [ 10, 25, 3, 50, 2]\n",
    "largestNumber = list[0]\n",
    "\n",
    "for num in list:\n",
    "    if num > largestNumber:\n",
    "        largestNumber = num\n",
    "\n",
    "\n",
    "print(\"Largest number: \",largestNumber)"
   ]
  },
  {
   "cell_type": "markdown",
   "id": "a4bed0a3",
   "metadata": {},
   "source": [
    "**4. Get Smallest Number in List**"
   ]
  },
  {
   "cell_type": "code",
   "execution_count": 28,
   "id": "fd3fc458",
   "metadata": {},
   "outputs": [
    {
     "name": "stdout",
     "output_type": "stream",
     "text": [
      "Smallest number: 2\n"
     ]
    }
   ],
   "source": [
    "list = [10,25,3,50,2]\n",
    "smallestNumber = list[0]\n",
    "\n",
    "for num in list:\n",
    "    if num < smallestNumber:\n",
    "        smallestNumber = num\n",
    "\n",
    "print(\"Smallest number:\" ,smallestNumber)        "
   ]
  },
  {
   "cell_type": "markdown",
   "id": "f0f9e172",
   "metadata": {},
   "source": [
    "**5. Count Strings with Same Start and End**"
   ]
  },
  {
   "cell_type": "code",
   "execution_count": 5,
   "id": "6d196661",
   "metadata": {},
   "outputs": [
    {
     "name": "stdout",
     "output_type": "stream",
     "text": [
      "Number of strings:  2\n"
     ]
    }
   ],
   "source": [
    "words = ['abc','xyz','aba','1221']\n",
    "count = 0\n",
    "\n",
    "for word in words:\n",
    "    if len(word) >= 2 and word[0] == word[-1]:\n",
    "        count = count + 1\n",
    "\n",
    "print(\"Number of strings: \",count)       \n",
    "     "
   ]
  },
  {
   "cell_type": "markdown",
   "id": "bed8c40a",
   "metadata": {},
   "source": [
    "**6. Sort Tuples by Last Element**\n"
   ]
  },
  {
   "cell_type": "code",
   "execution_count": null,
   "id": "d5323540",
   "metadata": {},
   "outputs": [],
   "source": []
  },
  {
   "cell_type": "markdown",
   "id": "1b6e6b12",
   "metadata": {},
   "source": [
    "**7. Remove Duplicates from List**"
   ]
  },
  {
   "cell_type": "code",
   "execution_count": 7,
   "id": "16d177bd",
   "metadata": {},
   "outputs": [
    {
     "name": "stdout",
     "output_type": "stream",
     "text": [
      "List without duplicates: [1, 2, 3, 4, 5, 6, 7]\n"
     ]
    }
   ],
   "source": [
    "list = [1,2,2,3,4,4,5,6,6,7]\n",
    "uniqueList = []\n",
    "\n",
    "for num in list:\n",
    "    if num not in uniqueList:\n",
    "        uniqueList.append(num)\n",
    "\n",
    "print(\"List without duplicates:\",uniqueList)"
   ]
  },
  {
   "cell_type": "markdown",
   "id": "edc04c43",
   "metadata": {},
   "source": [
    "**8. Check if List is Empty**"
   ]
  },
  {
   "cell_type": "code",
   "execution_count": 8,
   "id": "bb2e9040",
   "metadata": {},
   "outputs": [
    {
     "name": "stdout",
     "output_type": "stream",
     "text": [
      "List is empty\n"
     ]
    }
   ],
   "source": [
    "list = []\n",
    "\n",
    "if len(list) == 0:\n",
    "    print(\"List is empty\")\n",
    "\n",
    "else:\n",
    "    print(\"List is not empty\")"
   ]
  },
  {
   "cell_type": "code",
   "execution_count": 9,
   "id": "83645047",
   "metadata": {},
   "outputs": [
    {
     "name": "stdout",
     "output_type": "stream",
     "text": [
      "List is not empty\n"
     ]
    }
   ],
   "source": [
    "list = [10, 20]\n",
    "\n",
    "if len(list) == 0:\n",
    "    print(\"List is empty\")\n",
    "else:\n",
    "    print(\"List is not empty\")    "
   ]
  },
  {
   "cell_type": "markdown",
   "id": "52e2eae8",
   "metadata": {},
   "source": [
    "**9. Clone or Copy a List**"
   ]
  },
  {
   "cell_type": "code",
   "execution_count": 10,
   "id": "cee7f86f",
   "metadata": {},
   "outputs": [
    {
     "name": "stdout",
     "output_type": "stream",
     "text": [
      "Original List: [1, 2, 3, 4]\n",
      "Copied List: [1, 2, 3, 4]\n"
     ]
    }
   ],
   "source": [
    "original = [1, 2, 3, 4]\n",
    "copy_list = []\n",
    "\n",
    "for item in original:\n",
    "    copy_list.append(item)\n",
    "\n",
    "print(\"Original List:\", original)\n",
    "print(\"Copied List:\", copy_list)\n"
   ]
  },
  {
   "cell_type": "markdown",
   "id": "bf961255",
   "metadata": {},
   "source": [
    "**10.Find Words Longer Than n**"
   ]
  },
  {
   "cell_type": "code",
   "execution_count": 16,
   "id": "d50c1f23",
   "metadata": {},
   "outputs": [
    {
     "name": "stdout",
     "output_type": "stream",
     "text": [
      "Words longer than 3 : ['apple', 'beautiful', 'moon']\n"
     ]
    }
   ],
   "source": [
    "words = [\"apple\", \"is\", \"beautiful\", \"sun\", \"moon\"]\n",
    "n = int(input(\"Enter value of n:\"))\n",
    "result = []\n",
    "\n",
    "for word in words:\n",
    "    if len(word) > n:\n",
    "        result.append(word)\n",
    "\n",
    "print(\"Words longer than\", n, \":\", result)\n"
   ]
  }
 ],
 "metadata": {
  "kernelspec": {
   "display_name": "Python 3",
   "language": "python",
   "name": "python3"
  },
  "language_info": {
   "codemirror_mode": {
    "name": "ipython",
    "version": 3
   },
   "file_extension": ".py",
   "mimetype": "text/x-python",
   "name": "python",
   "nbconvert_exporter": "python",
   "pygments_lexer": "ipython3",
   "version": "3.12.5"
  }
 },
 "nbformat": 4,
 "nbformat_minor": 5
}
