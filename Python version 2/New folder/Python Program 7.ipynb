{
 "cells": [
  {
   "cell_type": "markdown",
   "id": "312e3dff",
   "metadata": {},
   "source": [
    "**Math related Library functions**"
   ]
  },
  {
   "cell_type": "code",
   "execution_count": 6,
   "id": "fd4a447d",
   "metadata": {},
   "outputs": [
    {
     "name": "stdout",
     "output_type": "stream",
     "text": [
      "20\n"
     ]
    }
   ],
   "source": [
    "from math import *\n",
    "result = max(20,10)\n",
    "print(result)"
   ]
  },
  {
   "cell_type": "code",
   "execution_count": null,
   "id": "ee698258",
   "metadata": {},
   "outputs": [
    {
     "name": "stdout",
     "output_type": "stream",
     "text": [
      "20\n",
      "10\n",
      "4\n",
      "8.0\n",
      "5.0\n",
      "3\n",
      "4\n"
     ]
    }
   ],
   "source": [
    "from math import *\n",
    "print(max(20,10))\n",
    "# other functions:\n",
    "print(min(20,10))\n",
    "print(abs(-4))\n",
    "print(pow(2,3))\n",
    "print(sqrt(25))\n",
    "print(round(3.2)) # It will show the closer output of 3.2, it will 3.\n",
    "print(round(3.8)) "
   ]
  },
  {
   "cell_type": "code",
   "execution_count": null,
   "id": "0d03b988",
   "metadata": {},
   "outputs": [
    {
     "name": "stdout",
     "output_type": "stream",
     "text": [
      "3\n",
      "4\n"
     ]
    }
   ],
   "source": [
    "# more math library function\n",
    "\n",
    "# it will show the 3.7 er nicher diker value 4 print korbe.\n",
    "print(floor(3.7))\n",
    "#it will show the 3.7 er uporer diker value 3 show korbe.\n",
    "print(ceil(3.7))"
   ]
  }
 ],
 "metadata": {
  "kernelspec": {
   "display_name": "Python 3",
   "language": "python",
   "name": "python3"
  },
  "language_info": {
   "codemirror_mode": {
    "name": "ipython",
    "version": 3
   },
   "file_extension": ".py",
   "mimetype": "text/x-python",
   "name": "python",
   "nbconvert_exporter": "python",
   "pygments_lexer": "ipython3",
   "version": "3.12.5"
  }
 },
 "nbformat": 4,
 "nbformat_minor": 5
}
