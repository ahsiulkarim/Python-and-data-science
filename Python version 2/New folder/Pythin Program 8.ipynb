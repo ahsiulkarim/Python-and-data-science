{
 "cells": [
  {
   "cell_type": "markdown",
   "id": "535cff90",
   "metadata": {},
   "source": [
    "**Formated String | Type function**"
   ]
  },
  {
   "cell_type": "code",
   "execution_count": null,
   "id": "5a2118f2",
   "metadata": {},
   "outputs": [
    {
     "data": {
      "text/plain": [
       "float"
      ]
     },
     "execution_count": 13,
     "metadata": {},
     "output_type": "execute_result"
    }
   ],
   "source": [
    "X = 10\n",
    "\n",
    "type(X)\n",
    "\n",
    "#type(Y)"
   ]
  },
  {
   "cell_type": "code",
   "execution_count": 15,
   "id": "af3fb95c",
   "metadata": {},
   "outputs": [
    {
     "data": {
      "text/plain": [
       "str"
      ]
     },
     "execution_count": 15,
     "metadata": {},
     "output_type": "execute_result"
    }
   ],
   "source": [
    "x = \"audri\"\n",
    "\n",
    "type(x)"
   ]
  },
  {
   "cell_type": "code",
   "execution_count": 17,
   "id": "7b97b9a5",
   "metadata": {},
   "outputs": [
    {
     "name": "stdout",
     "output_type": "stream",
     "text": [
      "<class 'bool'>\n"
     ]
    }
   ],
   "source": [
    "print(type(True))"
   ]
  },
  {
   "cell_type": "markdown",
   "id": "8e67f6b6",
   "metadata": {},
   "source": [
    "**Formate String or String formate**"
   ]
  },
  {
   "cell_type": "code",
   "execution_count": 7,
   "id": "5aead57a",
   "metadata": {},
   "outputs": [
    {
     "name": "stdout",
     "output_type": "stream",
     "text": [
      "The sum is  50\n"
     ]
    }
   ],
   "source": [
    "num1 = 20\n",
    "num2 = 30\n",
    "print(\"The sum is \",num1 + num2)"
   ]
  },
  {
   "cell_type": "code",
   "execution_count": 11,
   "id": "b43ad19b",
   "metadata": {},
   "outputs": [
    {
     "name": "stdout",
     "output_type": "stream",
     "text": [
      "20 + 30 = 50 \n"
     ]
    }
   ],
   "source": [
    "# 20 + 30 = 50\n",
    "# to formate a string, \"f\" letter must be used.\n",
    "#For printing any value \"{}\" must used for printing that value.\n",
    "#num1 = 20\n",
    "#num2 = 30\n",
    "print(f\"{num1} + {num2} = {num1 + num2} \")\n"
   ]
  },
  {
   "cell_type": "code",
   "execution_count": null,
   "id": "77d144cc",
   "metadata": {},
   "outputs": [
    {
     "name": "stdout",
     "output_type": "stream",
     "text": [
      "Virat Kohli.  01710444700\n"
     ]
    }
   ],
   "source": [
    "\"\"\"\n",
    "Suppose there \n",
    "will be two print funtion\n",
    "used\n",
    "two print \n",
    "phone numbe & his name \n",
    "\"\"\"\n",
    "# in this case print function always print a new line after printin something.\n",
    "#n ow the number is printed side by side because of \"end\".\n",
    "print(\"Virat Kohli.\",end = \"  \") # Here the \"end\" is not printing the new line.\n",
    "print(\"01710444700\")"
   ]
  }
 ],
 "metadata": {
  "kernelspec": {
   "display_name": "Python 3",
   "language": "python",
   "name": "python3"
  },
  "language_info": {
   "codemirror_mode": {
    "name": "ipython",
    "version": 3
   },
   "file_extension": ".py",
   "mimetype": "text/x-python",
   "name": "python",
   "nbconvert_exporter": "python",
   "pygments_lexer": "ipython3",
   "version": "3.12.5"
  }
 },
 "nbformat": 4,
 "nbformat_minor": 5
}
