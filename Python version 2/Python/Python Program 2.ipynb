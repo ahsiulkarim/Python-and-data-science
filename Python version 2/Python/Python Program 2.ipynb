{
 "cells": [
  {
   "cell_type": "markdown",
   "id": "nBieFwqaUhBL",
   "metadata": {
    "id": "nBieFwqaUhBL"
   },
   "source": [
    "**Commant and multiple comment**"
   ]
  },
  {
   "cell_type": "code",
   "execution_count": null,
   "id": "XCcc2lNuUyJS",
   "metadata": {
    "colab": {
     "base_uri": "https://localhost:8080/"
    },
    "executionInfo": {
     "elapsed": 44,
     "status": "ok",
     "timestamp": 1758224194592,
     "user": {
      "displayName": "Ahsiul Audri",
      "userId": "08687706205626798698"
     },
     "user_tz": -360
    },
    "id": "XCcc2lNuUyJS",
    "outputId": "1c05c350-65cc-4240-cade-e985244db344"
   },
   "outputs": [
    {
     "name": "stdout",
     "output_type": "stream",
     "text": [
      "Virat Kohli\n"
     ]
    }
   ],
   "source": [
    "'''\n",
    "This the multi-line comment\n",
    "of the string.\n",
    "\n",
    "'''\n",
    "# This is a string print.\n",
    "print(\"Virat Kohli\")"
   ]
  },
  {
   "cell_type": "code",
   "execution_count": null,
   "id": "svVj9SbGU4Wq",
   "metadata": {
    "colab": {
     "base_uri": "https://localhost:8080/"
    },
    "executionInfo": {
     "elapsed": 20,
     "status": "ok",
     "timestamp": 1758224194631,
     "user": {
      "displayName": "Ahsiul Audri",
      "userId": "08687706205626798698"
     },
     "user_tz": -360
    },
    "id": "svVj9SbGU4Wq",
    "outputId": "663b6575-0632-41f5-c793-fb814d4d6265"
   },
   "outputs": [
    {
     "name": "stdout",
     "output_type": "stream",
     "text": [
      "01710444700\n"
     ]
    }
   ],
   "source": [
    "'''\n",
    "This the multi-line comment\n",
    "of the phone number in string format.\n",
    "\n",
    "'''\n",
    "# This is also a phone number print in string format.\n",
    "print(\"01710444700\")"
   ]
  },
  {
   "cell_type": "markdown",
   "id": "YMcQq6NtVDHz",
   "metadata": {
    "id": "YMcQq6NtVDHz"
   },
   "source": [
    "**Some different backslash character's**"
   ]
  },
  {
   "cell_type": "code",
   "execution_count": null,
   "id": "VQA38TPrVXEi",
   "metadata": {
    "id": "VQA38TPrVXEi",
    "outputId": "517bcdb2-1cc5-48b4-bddd-6b4a476f91d5"
   },
   "outputs": [
    {
     "name": "stdout",
     "output_type": "stream",
     "text": [
      "Virat Kohli \n",
      "01710444700\n",
      "Virat Kohli \t01710444700\n",
      "\"Virat Kohli\"\n",
      "'01710444700'\n"
     ]
    }
   ],
   "source": [
    "\n",
    "# Using of  Backslash characters.\n",
    "\n",
    "# Used of blackslash \\n:\n",
    "print(\"Virat Kohli \\n01710444700\")\n",
    "\n",
    "#used of backslash \\t:\n",
    "print(\"Virat Kohli \\t01710444700\")\n",
    "\n",
    "# print two string in one line using the baclslash\\ to show the string text in double quote::\n",
    "print(\"\\\"Virat Kohli\\\"\")\n",
    "print('\\'01710444700\\'')"
   ]
  },
  {
   "cell_type": "markdown",
   "id": "1daf69a1",
   "metadata": {},
   "source": [
    "**Variables and Data**"
   ]
  },
  {
   "cell_type": "code",
   "execution_count": 1,
   "id": "032999bf",
   "metadata": {},
   "outputs": [
    {
     "name": "stdout",
     "output_type": "stream",
     "text": [
      "Our new student name is Virat Kohli\n",
      "Virat Kohli lives in Dhaka\n",
      "He is currently 24 years old\n",
      "At the age of  24 , he has started to learn Python\n",
      "Virat Kohli has scored 3.95 in his Secondary exam\n",
      "\"Ahsiul\" \"Karim\" \"Audri\"\n"
     ]
    }
   ],
   "source": [
    "name = \"Virat Kohli\"\n",
    "age = 24\n",
    "cgpa = 3.95\n",
    "print(\"Our new student name is \"+name)\n",
    "print(name + \" lives in Dhaka\") \n",
    "print(\"He is currently\", age , \"years old\") \n",
    "print(\"At the age of \" , age , \", he has started to learn Python\") \n",
    "print(name + \" has scored\", cgpa ,\"in his Secondary exam\")\n",
    "  \n",
    "name1 = \"Ahsiul\"\n",
    "name2 = \"Karim\"  \n",
    "name3 = \"Audri\"\n",
    "\n",
    "print(\"\\\"\"+name1+\"\\\"\" \" \" \"\\\"\"+name2+\"\\\"\" \" \" \"\\\"\"+name3+\"\\\"\")"
   ]
  },
  {
   "cell_type": "code",
   "execution_count": null,
   "id": "-qSutK-bZF7p",
   "metadata": {
    "colab": {
     "base_uri": "https://localhost:8080/"
    },
    "executionInfo": {
     "elapsed": 8,
     "status": "ok",
     "timestamp": 1758228065342,
     "user": {
      "displayName": "Ahsiul Audri",
      "userId": "08687706205626798698"
     },
     "user_tz": -360
    },
    "id": "-qSutK-bZF7p",
    "outputId": "7ac72ae7-611d-4c91-bbae-969dfef1b422"
   },
   "outputs": [
    {
     "name": "stdout",
     "output_type": "stream",
     "text": [
      "Our new student name is Virat Kohli\n",
      "Virat Kohli lives in Dhaka\n",
      "He is currently 24 years old\n",
      "At the age of  24 , he has started to learn Python\n",
      "Virat Kohli has scored 3.95 in his Secondary exam\n",
      "AhsiuKarimAudri\n"
     ]
    }
   ],
   "source": [
    "name = \"Virat Kohli\"\n",
    "age = 24\n",
    "cgpa = 3.95\n",
    "print(\"Our new student name is \"+name) # in python \"plus\" is used for only to print string type output.\n",
    "print(name + \" lives in Dhaka\") # Same has done in this line which has done into the first line.\n",
    "print(\"He is currently\", age , \"years old\") # this is interger type, so for interger type used \",\"  this symbol means \"comma\"\n",
    "print(\"At the age of \" , age , \", he has started to learn Python\") # same thing has in this line, which is done into the 3rd line.\n",
    "print(name + \" has scored\", cgpa ,\"in his Secondary exam\")# For float type same symbol will be used, which has been used for integer type.\n",
    "\n",
    "# Process to show how to connect part by part divided \"strings\" in python to make a \"single string\":\n",
    "print(\" Ahsiu \" + \" Karim \" + \" Audri \")"
   ]
  }
 ],
 "metadata": {
  "colab": {
   "provenance": []
  },
  "kernelspec": {
   "display_name": "Python 3",
   "language": "python",
   "name": "python3"
  },
  "language_info": {
   "codemirror_mode": {
    "name": "ipython",
    "version": 3
   },
   "file_extension": ".py",
   "mimetype": "text/x-python",
   "name": "python",
   "nbconvert_exporter": "python",
   "pygments_lexer": "ipython3",
   "version": "3.12.5"
  }
 },
 "nbformat": 4,
 "nbformat_minor": 5
}
