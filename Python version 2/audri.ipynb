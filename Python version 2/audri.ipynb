{
 "cells": [
  {
   "cell_type": "markdown",
   "id": "eb62aeca",
   "metadata": {},
   "source": [
    "**This is the practice part of the python tha have done or completed before.**"
   ]
  },
  {
   "cell_type": "code",
   "execution_count": 1,
   "id": "5ea9009d",
   "metadata": {},
   "outputs": [
    {
     "name": "stdout",
     "output_type": "stream",
     "text": [
      "\"virat Kohli\"\n"
     ]
    }
   ],
   "source": [
    "# showing the two strings in double quotes and single quotes\n",
    "print(\"\\\"virat Kohli\\\"\")"
   ]
  },
  {
   "cell_type": "code",
   "execution_count": 2,
   "id": "c2d3c4d3",
   "metadata": {},
   "outputs": [
    {
     "name": "stdout",
     "output_type": "stream",
     "text": [
      "\"01710444700\"\n"
     ]
    }
   ],
   "source": [
    "# now printing a string type  number.\n",
    "print(\"\\\"01710444700\\\"\")"
   ]
  },
  {
   "cell_type": "markdown",
   "id": "18081a57",
   "metadata": {},
   "source": [
    "**Variales and Data**"
   ]
  },
  {
   "cell_type": "code",
   "execution_count": 41,
   "id": "4ae2e16c",
   "metadata": {},
   "outputs": [
    {
     "name": "stdout",
     "output_type": "stream",
     "text": [
      "Our new student name is Virat Kohli\n",
      "Virat Kohli lives in Dhaka\n",
      "He is currently 24 years old\n",
      "At the age of  24 , he has started to learn Python\n",
      "Virat Kohli has scored 3.95 in his Secondary exam\n",
      "\"Ahsiul\" \"Karim\" \"Audri\"\n"
     ]
    }
   ],
   "source": [
    "name = \"Virat Kohli\"\n",
    "age = 24\n",
    "cgpa = 3.95\n",
    "print(\"Our new student name is \"+name)\n",
    "print(name + \" lives in Dhaka\") \n",
    "print(\"He is currently\", age , \"years old\") \n",
    "print(\"At the age of \" , age , \", he has started to learn Python\") \n",
    "print(name + \" has scored\", cgpa ,\"in his Secondary exam\")\n",
    "  \n",
    "name1 = \"Ahsiul\"\n",
    "name2 = \"Karim\"  \n",
    "name3 = \"Audri\"\n",
    "\n",
    "print(\"\\\"\"+name1+\"\\\"\" \" \" \"\\\"\"+name2+\"\\\"\" \" \" \"\\\"\"+name3+\"\\\"\")"
   ]
  },
  {
   "cell_type": "markdown",
   "id": "2494d670",
   "metadata": {},
   "source": [
    "**Numeric Operation**"
   ]
  },
  {
   "cell_type": "code",
   "execution_count": null,
   "id": "115e460c",
   "metadata": {},
   "outputs": [
    {
     "name": "stdout",
     "output_type": "stream",
     "text": [
      "22\n",
      "14\n",
      "72\n",
      "4.5\n",
      "2\n",
      "6\n",
      "16\n",
      "64\n"
     ]
    }
   ],
   "source": [
    "a = 18\n",
    "b = 4\n",
    "\n",
    "print(a + b)\n",
    "\n",
    "print(a - b)\n",
    "\n",
    "print(a * b)\n",
    "\n",
    "print(a / b)\n",
    "\n",
    "print(a % b)\n",
    "\n",
    "\"\"\"\n",
    "Some other \n",
    "operactors\n",
    "\n",
    "\"\"\"\n",
    "\n",
    "\n",
    "\n",
    "#Exponentiation\n",
    "a2 = 4\n",
    "b2 = 2\n",
    "print(a2 ** b2)\n",
    "\n",
    "\n",
    "a3 = 4\n",
    "b3 = 3\n",
    "print(a3 ** b3) \n",
    "\n"
   ]
  },
  {
   "cell_type": "code",
   "execution_count": 46,
   "id": "ad9f80d9",
   "metadata": {},
   "outputs": [
    {
     "name": "stdout",
     "output_type": "stream",
     "text": [
      "6\n"
     ]
    }
   ],
   "source": [
    "a1 = 27\n",
    "b1 = 4\n",
    "\n",
    "print(a1 // b1)"
   ]
  },
  {
   "cell_type": "code",
   "execution_count": 3,
   "id": "7fe8b0fc",
   "metadata": {},
   "outputs": [
    {
     "name": "stdout",
     "output_type": "stream",
     "text": [
      "Student information\n",
      "---------------------\n",
      "Name : Sazid Rahman Angshu\n",
      "Age  :  28\n",
      "CGPA :  3.60\n"
     ]
    }
   ],
   "source": [
    "name = input(\"Enter your name:\")\n",
    "age = input(\"Enter your age:\")\n",
    "cgpa = input(\"Enter your cgpa:\")\n",
    "\n",
    "print(\"Student information\")\n",
    "print(\"---------------------\")\n",
    "print(\"Name : \"+name)\n",
    "print(\"Age  : \",age)\n",
    "print(\"CGPA : \",cgpa)"
   ]
  },
  {
   "cell_type": "code",
   "execution_count": 10,
   "id": "b87c31f7",
   "metadata": {},
   "outputs": [
    {
     "name": "stdout",
     "output_type": "stream",
     "text": [
      "\"Tanjil Emam Pranto\"\n",
      "'01814836789'\n"
     ]
    }
   ],
   "source": [
    "\n",
    "name = input(\"Enter your name:\")\n",
    "phoneNumber = input(\"Enter your phone number:\")\n",
    "\n",
    "print (\"\\\"\"+ name +\"\\\"\")\n",
    "print (\"\\'\"+ phoneNumber +\"\\'\")"
   ]
  },
  {
   "cell_type": "markdown",
   "id": "1d3c532d",
   "metadata": {},
   "source": [
    "**Typecusting**"
   ]
  },
  {
   "cell_type": "code",
   "execution_count": 1,
   "id": "1e8b52c8",
   "metadata": {},
   "outputs": [
    {
     "name": "stdout",
     "output_type": "stream",
     "text": [
      "123\n"
     ]
    }
   ],
   "source": [
    "num1 = input(\"Enter 1st number:\")\n",
    "num2 = input(\"Enter 2nd number:\")\n",
    "\n",
    "sum = num1 + num2\n",
    "\n",
    "print(sum)"
   ]
  },
  {
   "cell_type": "code",
   "execution_count": 1,
   "id": "b7bdc61a",
   "metadata": {},
   "outputs": [
    {
     "ename": "TypeError",
     "evalue": "can only concatenate str (not \"int\") to str",
     "output_type": "error",
     "traceback": [
      "\u001b[1;31m---------------------------------------------------------------------------\u001b[0m",
      "\u001b[1;31mTypeError\u001b[0m                                 Traceback (most recent call last)",
      "Cell \u001b[1;32mIn[1], line 6\u001b[0m\n\u001b[0;32m      2\u001b[0m num2 \u001b[38;5;241m=\u001b[39m \u001b[38;5;28minput\u001b[39m(\u001b[38;5;124m\"\u001b[39m\u001b[38;5;124mEnter 2nd number:\u001b[39m\u001b[38;5;124m\"\u001b[39m)\n\u001b[0;32m      4\u001b[0m \u001b[38;5;28msum\u001b[39m \u001b[38;5;241m=\u001b[39m \u001b[38;5;28mint\u001b[39m(num1) \u001b[38;5;241m+\u001b[39m \u001b[38;5;28mint\u001b[39m(num2)\n\u001b[1;32m----> 6\u001b[0m \u001b[38;5;28mprint\u001b[39m(\u001b[38;5;124;43m\"\u001b[39;49m\u001b[38;5;124;43mThe sum is \u001b[39;49m\u001b[38;5;124;43m\"\u001b[39;49m\u001b[38;5;241;43m+\u001b[39;49m\u001b[38;5;28;43msum\u001b[39;49m)\n",
      "\u001b[1;31mTypeError\u001b[0m: can only concatenate str (not \"int\") to str"
     ]
    }
   ],
   "source": [
    "num1 = input(\"Enter 1st number:\")\n",
    "num2 = input(\"Enter 2nd number:\")\n",
    "\n",
    "sum = int(num1) + int(num2)\n",
    "\n",
    "print(\"The sum is \"+sum)\n"
   ]
  },
  {
   "cell_type": "code",
   "execution_count": 6,
   "id": "645aa93a",
   "metadata": {},
   "outputs": [
    {
     "name": "stdout",
     "output_type": "stream",
     "text": [
      "The sum is 15\n",
      "The subtraction is 9\n",
      "The multiplication is 36\n"
     ]
    }
   ],
   "source": [
    "num1 = input(\"Enter 1st number:\")\n",
    "num2 = input(\"Enter 2nd number:\")\n",
    "\n",
    "sum = int(num1) + int(num2)\n",
    "# addition \n",
    "print(\"The sum is\",sum)\n",
    "\n",
    "#Subtracion\n",
    "\n",
    "result = int(num1) - int(num2)\n",
    "\n",
    "print(\"The subtraction is\",result)\n",
    "\n",
    "#multiplication\n",
    "\n",
    "result = int(num1) * int(num2)\n",
    "\n",
    "print(\"The multiplication is\",result)"
   ]
  },
  {
   "cell_type": "code",
   "execution_count": 2,
   "id": "6aa163ae",
   "metadata": {},
   "outputs": [
    {
     "name": "stdout",
     "output_type": "stream",
     "text": [
      "List: [2, 4, 6, 8, 10]\n"
     ]
    }
   ],
   "source": [
    "# user enters: 10 20 30 40\n",
    "numbers = input(\"Enter numbers separated by space: \").split()\n",
    "\n",
    "# convert to integers\n",
    "for i in range(len(numbers)):\n",
    "    numbers[i] = int(numbers[i])\n",
    "\n",
    "print(\"List:\", numbers)\n"
   ]
  }
 ],
 "metadata": {
  "kernelspec": {
   "display_name": "Python 3",
   "language": "python",
   "name": "python3"
  },
  "language_info": {
   "codemirror_mode": {
    "name": "ipython",
    "version": 3
   },
   "file_extension": ".py",
   "mimetype": "text/x-python",
   "name": "python",
   "nbconvert_exporter": "python",
   "pygments_lexer": "ipython3",
   "version": "3.12.5"
  }
 },
 "nbformat": 4,
 "nbformat_minor": 5
}
