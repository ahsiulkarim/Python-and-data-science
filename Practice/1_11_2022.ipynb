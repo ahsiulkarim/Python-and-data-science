{
 "cells": [
  {
   "cell_type": "markdown",
   "id": "24bef402",
   "metadata": {},
   "source": [
    "**Printing interger values in string formate.**"
   ]
  },
  {
   "cell_type": "code",
   "execution_count": 2,
   "id": "2dcda612",
   "metadata": {},
   "outputs": [
    {
     "name": "stdout",
     "output_type": "stream",
     "text": [
      "<class 'str'>\n"
     ]
    }
   ],
   "source": [
    "x = str(2)\n",
    "\n",
    "print(type(x))"
   ]
  },
  {
   "cell_type": "code",
   "execution_count": 4,
   "id": "8db0883e",
   "metadata": {},
   "outputs": [
    {
     "name": "stdout",
     "output_type": "stream",
     "text": [
      "<class 'str'>\n"
     ]
    }
   ],
   "source": [
    "x = str(2)\n",
    "print(type(x))"
   ]
  },
  {
   "cell_type": "code",
   "execution_count": 5,
   "id": "d3b93f31",
   "metadata": {},
   "outputs": [
    {
     "name": "stdout",
     "output_type": "stream",
     "text": [
      "<class 'str'>\n"
     ]
    }
   ],
   "source": [
    "x = str(2)\n",
    "print(type(x))"
   ]
  },
  {
   "cell_type": "markdown",
   "id": "dfe6d482",
   "metadata": {},
   "source": [
    "Now printing in different variabel and printing the interger value in 'interger' formate.\n"
   ]
  },
  {
   "cell_type": "code",
   "execution_count": 7,
   "id": "6e287db6",
   "metadata": {},
   "outputs": [
    {
     "name": "stdout",
     "output_type": "stream",
     "text": [
      "<class 'int'>\n"
     ]
    }
   ],
   "source": [
    "y = int(2)\n",
    "print(type(y))"
   ]
  },
  {
   "cell_type": "code",
   "execution_count": 9,
   "id": "a10f3242",
   "metadata": {},
   "outputs": [
    {
     "name": "stdout",
     "output_type": "stream",
     "text": [
      "<class 'int'>\n"
     ]
    }
   ],
   "source": [
    "y = int(2)\n",
    "print(type(y))"
   ]
  },
  {
   "cell_type": "code",
   "execution_count": 10,
   "id": "0b42639f",
   "metadata": {},
   "outputs": [
    {
     "name": "stdout",
     "output_type": "stream",
     "text": [
      "<class 'int'>\n"
     ]
    }
   ],
   "source": [
    "y = int(2)\n",
    "print(type(y))"
   ]
  },
  {
   "cell_type": "markdown",
   "id": "b239e413",
   "metadata": {},
   "source": [
    "Printing float type value"
   ]
  },
  {
   "cell_type": "code",
   "execution_count": 14,
   "id": "985ac478",
   "metadata": {},
   "outputs": [
    {
     "name": "stdout",
     "output_type": "stream",
     "text": [
      "<class 'float'>\n"
     ]
    }
   ],
   "source": [
    "z = float(2)\n",
    "print(type(z))"
   ]
  },
  {
   "cell_type": "code",
   "execution_count": 16,
   "id": "fb0f1cb5",
   "metadata": {},
   "outputs": [
    {
     "name": "stdout",
     "output_type": "stream",
     "text": [
      "<class 'float'>\n"
     ]
    }
   ],
   "source": [
    "z = float(2)\n",
    "print(type(z))"
   ]
  },
  {
   "cell_type": "code",
   "execution_count": 17,
   "id": "838c26ce",
   "metadata": {},
   "outputs": [
    {
     "name": "stdout",
     "output_type": "stream",
     "text": [
      "<class 'float'>\n"
     ]
    }
   ],
   "source": [
    "z = float(2)\n",
    "print(type(z))"
   ]
  },
  {
   "cell_type": "markdown",
   "id": "4742123b",
   "metadata": {},
   "source": [
    "**Printin string = hello in different variables.**"
   ]
  },
  {
   "cell_type": "code",
   "execution_count": 19,
   "id": "669f4e24",
   "metadata": {},
   "outputs": [
    {
     "name": "stdout",
     "output_type": "stream",
     "text": [
      "Hello\n",
      "Hello\n",
      "Hello\n",
      "Hello\n",
      "Hello\n"
     ]
    }
   ],
   "source": [
    "myvar = \"Hello\"\n",
    "my_var = \"Hello\"\n",
    "_my_var = \"Hello\"\n",
    "MYVAR = \"Hello\"\n",
    "myvar2 = \"Hello\"\n",
    "\n",
    "\n",
    "print(myvar)\n",
    "print(my_var)\n",
    "print(_my_var)\n",
    "print(MYVAR)\n",
    "print(myvar2)"
   ]
  },
  {
   "cell_type": "code",
   "execution_count": 21,
   "id": "0ac7df42",
   "metadata": {},
   "outputs": [
    {
     "name": "stdout",
     "output_type": "stream",
     "text": [
      "Hello\n",
      "Hello\n",
      "Hello\n",
      "Hello\n",
      "Hello\n"
     ]
    }
   ],
   "source": [
    "myvar = \"Hello\"\n",
    "my_var = \"Hello\"\n",
    "_my_var = \"Hello\"\n",
    "MYVAR = \"Hello\"\n",
    "myvar2 = \"Hello\"\n",
    "\n",
    "\n",
    "print(myvar)\n",
    "print(myvar)\n",
    "print(_my_var)\n",
    "print(MYVAR)\n",
    "print(myvar2)"
   ]
  },
  {
   "cell_type": "code",
   "execution_count": 22,
   "id": "308aa0b4",
   "metadata": {},
   "outputs": [
    {
     "name": "stdout",
     "output_type": "stream",
     "text": [
      "Hello\n",
      "Hello\n",
      "Hello\n",
      "Hello\n",
      "Hello\n"
     ]
    }
   ],
   "source": [
    "myvar = \"Hello\"\n",
    "my_var = \"Hello\"\n",
    "_my_var = \"Hello\"\n",
    "MYVAR = \"Hello\"\n",
    "myvar2 = \"Hello\"\n",
    "\n",
    "\n",
    "print(myvar)\n",
    "print(my_var)\n",
    "print(_my_var)\n",
    "print(MYVAR)\n",
    "print(myvar2)\n"
   ]
  },
  {
   "cell_type": "markdown",
   "id": "9abc0c7b",
   "metadata": {},
   "source": [
    "**Multiple Variable Assignment in Python\"**"
   ]
  },
  {
   "cell_type": "code",
   "execution_count": 23,
   "id": "ed50e1b8",
   "metadata": {},
   "outputs": [
    {
     "name": "stdout",
     "output_type": "stream",
     "text": [
      "Orange\n",
      "Banana\n",
      "Cherry\n"
     ]
    }
   ],
   "source": [
    "x,y,z = \"Orange\", \"Banana\", \"Cherry\"\n",
    "print(x)\n",
    "print(y)\n",
    "print(z)"
   ]
  },
  {
   "cell_type": "code",
   "execution_count": 26,
   "id": "1313eee3",
   "metadata": {},
   "outputs": [
    {
     "name": "stdout",
     "output_type": "stream",
     "text": [
      "Orange\n",
      "Banana\n",
      "Cherry\n"
     ]
    }
   ],
   "source": [
    "x,y,z = \"Orange\", \"Banana\", \"Cherry\"\n",
    "print(x)\n",
    "print(y)\n",
    "print(z)"
   ]
  },
  {
   "cell_type": "code",
   "execution_count": 27,
   "id": "71d24b81",
   "metadata": {},
   "outputs": [
    {
     "name": "stdout",
     "output_type": "stream",
     "text": [
      "Orange\n",
      "Banana\n",
      "Cherry\n"
     ]
    }
   ],
   "source": [
    "x,y,z = \"Orange\", \"Banana\", \"Cherry\"\n",
    "print(x)\n",
    "print(y)\n",
    "print(z)"
   ]
  },
  {
   "cell_type": "markdown",
   "id": "90ab3d55",
   "metadata": {},
   "source": [
    "Just showing the typer of this three variables."
   ]
  },
  {
   "cell_type": "code",
   "execution_count": 30,
   "id": "2a539cfb",
   "metadata": {},
   "outputs": [
    {
     "name": "stdout",
     "output_type": "stream",
     "text": [
      "<class 'str'>\n",
      "<class 'str'>\n",
      "<class 'str'>\n"
     ]
    }
   ],
   "source": [
    "print(type(x))\n",
    "print(type(y))\n",
    "print(type(z))"
   ]
  },
  {
   "cell_type": "code",
   "execution_count": 32,
   "id": "2422cde5",
   "metadata": {},
   "outputs": [
    {
     "name": "stdout",
     "output_type": "stream",
     "text": [
      "<class 'str'>\n",
      "<class 'str'>\n",
      "<class 'str'>\n"
     ]
    }
   ],
   "source": [
    "print(type(x))\n",
    "print(type(y))\n",
    "print(type(z))"
   ]
  },
  {
   "cell_type": "code",
   "execution_count": 33,
   "id": "57ba9a5d",
   "metadata": {},
   "outputs": [
    {
     "name": "stdout",
     "output_type": "stream",
     "text": [
      "<class 'str'>\n",
      "<class 'str'>\n",
      "<class 'str'>\n"
     ]
    }
   ],
   "source": [
    "print(type(x))\n",
    "print(type(y))\n",
    "print(type(z))"
   ]
  },
  {
   "cell_type": "markdown",
   "id": "2f615054",
   "metadata": {},
   "source": [
    "Same showing the conditon part showen into the fisrt.\n"
   ]
  },
  {
   "cell_type": "code",
   "execution_count": 35,
   "id": "672095d0",
   "metadata": {},
   "outputs": [
    {
     "name": "stdout",
     "output_type": "stream",
     "text": [
      "Six is greater than three!\n"
     ]
    }
   ],
   "source": [
    "if 6 > 3:\n",
    "    print(\"Six is greater than three!\")"
   ]
  },
  {
   "cell_type": "code",
   "execution_count": 37,
   "id": "b4874099",
   "metadata": {},
   "outputs": [
    {
     "name": "stdout",
     "output_type": "stream",
     "text": [
      "Six is greater than three!\n"
     ]
    }
   ],
   "source": [
    "if 6 > 3:\n",
    "    print(\"Six is greater than three!\")"
   ]
  },
  {
   "cell_type": "code",
   "execution_count": 38,
   "id": "782897f8",
   "metadata": {},
   "outputs": [
    {
     "name": "stdout",
     "output_type": "stream",
     "text": [
      "Six is greater than three!\n"
     ]
    }
   ],
   "source": [
    "if 6 > 3:\n",
    "    print(\"Six is greater than three!\")"
   ]
  },
  {
   "cell_type": "markdown",
   "id": "eabb1c24",
   "metadata": {},
   "source": [
    "# Showing and printing the list in python.\n"
   ]
  }
 ],
 "metadata": {
  "kernelspec": {
   "display_name": "Python 3",
   "language": "python",
   "name": "python3"
  },
  "language_info": {
   "codemirror_mode": {
    "name": "ipython",
    "version": 3
   },
   "file_extension": ".py",
   "mimetype": "text/x-python",
   "name": "python",
   "nbconvert_exporter": "python",
   "pygments_lexer": "ipython3",
   "version": "3.12.5"
  }
 },
 "nbformat": 4,
 "nbformat_minor": 5
}
